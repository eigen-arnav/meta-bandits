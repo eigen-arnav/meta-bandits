{
 "cells": [
  {
   "cell_type": "code",
   "execution_count": 1,
   "metadata": {},
   "outputs": [],
   "source": [
    "import numpy as np"
   ]
  },
  {
   "cell_type": "code",
   "execution_count": 2,
   "metadata": {},
   "outputs": [],
   "source": [
    "d = 10 # Dimensions of content\n",
    "\n",
    "# Initialize pool of content Ct\n",
    "content_pool = []\n",
    "\n",
    "num_iterations = 1000\n",
    "\n",
    "num_bins = 5\n",
    "bin_boundaries = np.linspace(0, 10, num_bins + 1)\n",
    "\n",
    "# Initialize parameters βi and uncertainties ui\n",
    "beta_parameters = np.zeros(num_bins)# initialize beta parameters\n",
    "uncertainties = np.zeros(num_bins)# initialize uncertainties"
   ]
  },
  {
   "cell_type": "code",
   "execution_count": 3,
   "metadata": {},
   "outputs": [],
   "source": [
    "def scale_risk_score(content):\n",
    "    return f(beta_parameters, uncertainties,content)\n",
    "\n",
    "def f(beta_parameters, uncertainties,content):\n",
    "    result = np.zeros_like(content)\n",
    "    for j in range(num_bins):\n",
    "        bin_mask = np.logical_and(bin_boundaries[j] <= content, content < bin_boundaries[j + 1])\n",
    "        a_ij, b_ij = beta_parameters[j] + uncertainties[j]\n",
    "        result[bin_mask] = a_ij * content[bin_mask] + b_ij\n",
    "    return result\n",
    "    \n",
    "\n",
    "def update_beta_parameters(beta_parameters, risk_score, true_severity):\n",
    "    for j in range(num_bins):\n",
    "        bin_mask = np.logical_and(bin_boundaries[j] <= risk_score, risk_score < bin_boundaries[j + 1])\n",
    "        x_j = risk_score[bin_mask]  # Extract the j-th column of X (risk scores for bin j)\n",
    "        xtj_sq_sum = np.sum(x_j ** 2)  # Sum of squares of risk scores for bin j\n",
    "        xtj_yt_sum = np.sum(x_j * true_severity)  # Sum of product of risk scores for bin j and predicted severity\n",
    "        \n",
    "        if xtj_sq_sum != 0:  # Avoid division by zero\n",
    "            beta_parameters[j] = xtj_yt_sum / xtj_sq_sum  # Update beta parameter for bin j\n",
    "    \n",
    "    return beta_parameters\n",
    "\n",
    "def update_uncertainties(uncertainties, risk_score):\n",
    "    for j in range(num_bins):\n",
    "        delta = np.random.random_sample()\n",
    "        bin_mask = np.logical_and(bin_boundaries[j] <= risk_score, risk_score < bin_boundaries[j + 1])\n",
    "        x_j = risk_score[bin_mask]  # Extract the j-th column of X (risk scores for bin j)\n",
    "        xtj_sq_sum = np.sum(x_j ** 2)  # Sum of squares of risk scores for bin j\n",
    "        \n",
    "        if xtj_sq_sum != 0:  # Avoid division by zero\n",
    "            uncertainties[j] = np.sqrt(np.log(delta)/ xtj_sq_sum)  # Update beta parameter for bin j\n",
    "    \n",
    "    return uncertainties"
   ]
  },
  {
   "cell_type": "code",
   "execution_count": 4,
   "metadata": {},
   "outputs": [
    {
     "ename": "TypeError",
     "evalue": "cannot unpack non-iterable numpy.float64 object",
     "output_type": "error",
     "traceback": [
      "\u001b[1;31m---------------------------------------------------------------------------\u001b[0m",
      "\u001b[1;31mTypeError\u001b[0m                                 Traceback (most recent call last)",
      "Cell \u001b[1;32mIn[4], line 10\u001b[0m\n\u001b[0;32m      8\u001b[0m content_to_review \u001b[38;5;241m=\u001b[39m \u001b[38;5;28;01mNone\u001b[39;00m\n\u001b[0;32m      9\u001b[0m \u001b[38;5;28;01mfor\u001b[39;00m con \u001b[38;5;129;01min\u001b[39;00m content_pool:\n\u001b[1;32m---> 10\u001b[0m     risk_score \u001b[38;5;241m=\u001b[39m \u001b[43mscale_risk_score\u001b[49m\u001b[43m(\u001b[49m\u001b[43mcon\u001b[49m\u001b[43m)\u001b[49m\n\u001b[0;32m     11\u001b[0m     \u001b[38;5;28;01mif\u001b[39;00m risk_score \u001b[38;5;241m>\u001b[39m max_risk_score:\n\u001b[0;32m     12\u001b[0m         max_risk_score \u001b[38;5;241m=\u001b[39m risk_score\n",
      "Cell \u001b[1;32mIn[3], line 2\u001b[0m, in \u001b[0;36mscale_risk_score\u001b[1;34m(content)\u001b[0m\n\u001b[0;32m      1\u001b[0m \u001b[38;5;28;01mdef\u001b[39;00m \u001b[38;5;21mscale_risk_score\u001b[39m(content):\n\u001b[1;32m----> 2\u001b[0m     \u001b[38;5;28;01mreturn\u001b[39;00m \u001b[43mf\u001b[49m\u001b[43m(\u001b[49m\u001b[43mbeta_parameters\u001b[49m\u001b[43m,\u001b[49m\u001b[43m \u001b[49m\u001b[43muncertainties\u001b[49m\u001b[43m,\u001b[49m\u001b[43mcontent\u001b[49m\u001b[43m)\u001b[49m\n",
      "Cell \u001b[1;32mIn[3], line 8\u001b[0m, in \u001b[0;36mf\u001b[1;34m(beta_parameters, uncertainties, content)\u001b[0m\n\u001b[0;32m      6\u001b[0m \u001b[38;5;28;01mfor\u001b[39;00m j \u001b[38;5;129;01min\u001b[39;00m \u001b[38;5;28mrange\u001b[39m(num_bins):\n\u001b[0;32m      7\u001b[0m     bin_mask \u001b[38;5;241m=\u001b[39m np\u001b[38;5;241m.\u001b[39mlogical_and(bin_boundaries[j] \u001b[38;5;241m<\u001b[39m\u001b[38;5;241m=\u001b[39m content, content \u001b[38;5;241m<\u001b[39m bin_boundaries[j \u001b[38;5;241m+\u001b[39m \u001b[38;5;241m1\u001b[39m])\n\u001b[1;32m----> 8\u001b[0m     a_ij, b_ij \u001b[38;5;241m=\u001b[39m beta_parameters[j] \u001b[38;5;241m+\u001b[39m uncertainties[j]\n\u001b[0;32m      9\u001b[0m     result[bin_mask] \u001b[38;5;241m=\u001b[39m a_ij \u001b[38;5;241m*\u001b[39m content[bin_mask] \u001b[38;5;241m+\u001b[39m b_ij\n\u001b[0;32m     10\u001b[0m \u001b[38;5;28;01mreturn\u001b[39;00m result\n",
      "\u001b[1;31mTypeError\u001b[0m: cannot unpack non-iterable numpy.float64 object"
     ]
    }
   ],
   "source": [
    "for t in range(num_iterations):\n",
    "    \n",
    "    content = np.random.uniform(0, 10, size=d)\n",
    "    content_pool.append(content)\n",
    "    \n",
    "    # Iterate through content in pool to find content to review\n",
    "    max_risk_score = -np.inf\n",
    "    content_to_review = None\n",
    "    for con in content_pool:\n",
    "        risk_score = scale_risk_score(con)\n",
    "        if risk_score > max_risk_score:\n",
    "            max_risk_score = risk_score\n",
    "\n",
    "    if max_risk_score>0:\n",
    "        content_to_review = con\n",
    "    \n",
    "        # Review the selected content\n",
    "        true_severity = np.random.uniform(0, 10, size=d) # Manual Review (Random for this simulation)\n",
    "        \n",
    "        beta_parameters = update_beta_parameters(beta_parameters, max_risk_score, true_severity)\n",
    "        uncertainties = update_uncertainties(uncertainties, max_risk_score)"
   ]
  }
 ],
 "metadata": {
  "kernelspec": {
   "display_name": "Python 3",
   "language": "python",
   "name": "python3"
  },
  "language_info": {
   "codemirror_mode": {
    "name": "ipython",
    "version": 3
   },
   "file_extension": ".py",
   "mimetype": "text/x-python",
   "name": "python",
   "nbconvert_exporter": "python",
   "pygments_lexer": "ipython3",
   "version": "3.12.1"
  }
 },
 "nbformat": 4,
 "nbformat_minor": 2
}
