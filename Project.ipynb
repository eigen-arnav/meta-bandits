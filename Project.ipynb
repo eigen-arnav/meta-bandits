{
 "cells": [
  {
   "cell_type": "code",
   "execution_count": 5,
   "metadata": {},
   "outputs": [],
   "source": [
    "import numpy as np"
   ]
  },
  {
   "cell_type": "code",
   "execution_count": 6,
   "metadata": {},
   "outputs": [],
   "source": [
    "d = 10 # Dimensions of content\n",
    "\n",
    "# Initialize pool of content Ct\n",
    "content_pool = []\n",
    "\n",
    "num_iterations = 1000\n",
    "\n",
    "num_bins = 5\n",
    "bin_boundaries = np.linspace(0, 10, num_bins + 1)\n",
    "\n",
    "# Initialize parameters βi and uncertainties ui\n",
    "beta_parameters = np.zeros(num_bins)# initialize beta parameters\n",
    "uncertainties = np.zeros(num_bins)# initialize uncertainties"
   ]
  },
  {
   "cell_type": "code",
   "execution_count": 7,
   "metadata": {},
   "outputs": [],
   "source": [
    "def scale_risk_score(content):\n",
    "    return max(f(beta_parameters, uncertainties,content))\n",
    "\n",
    "def f(beta_parameters, uncertainties,content):\n",
    "    result = np.zeros_like(content)\n",
    "    for j in range(num_bins):\n",
    "        bin_mask = np.logical_and(bin_boundaries[j] <= content, content < bin_boundaries[j + 1])\n",
    "        a_ij= beta_parameters[j] + uncertainties[j]\n",
    "        result[bin_mask] = a_ij * content[bin_mask]\n",
    "    return result\n",
    "    \n",
    "\n",
    "def update_beta_parameters(beta_parameters, risk_score, true_severity):\n",
    "    for j in range(num_bins):\n",
    "        bin_mask = np.logical_and(bin_boundaries[j] <= risk_score, risk_score < bin_boundaries[j + 1])\n",
    "        x_j = risk_score[bin_mask]  # Extract the j-th column of X (risk scores for bin j)\n",
    "        xtj_sq_sum = np.sum(x_j ** 2)  # Sum of squares of risk scores for bin j\n",
    "        xtj_yt_sum = np.sum(x_j * true_severity)  # Sum of product of risk scores for bin j and predicted severity\n",
    "        \n",
    "        if xtj_sq_sum != 0:  # Avoid division by zero\n",
    "            beta_parameters[j] = xtj_yt_sum / xtj_sq_sum  # Update beta parameter for bin j\n",
    "    \n",
    "    return beta_parameters\n",
    "\n",
    "def update_uncertainties(uncertainties, risk_score):\n",
    "    for j in range(num_bins):\n",
    "        delta = np.random.random_sample()\n",
    "        bin_mask = np.logical_and(bin_boundaries[j] <= risk_score, risk_score < bin_boundaries[j + 1])\n",
    "        x_j = risk_score[bin_mask]  # Extract the j-th column of X (risk scores for bin j)\n",
    "        xtj_sq_sum = np.sum(x_j ** 2)  # Sum of squares of risk scores for bin j\n",
    "        \n",
    "        if xtj_sq_sum != 0:  # Avoid division by zero\n",
    "            uncertainties[j] = np.sqrt(np.log(delta)/ xtj_sq_sum)  # Update beta parameter for bin j\n",
    "    \n",
    "    return uncertainties"
   ]
  },
  {
   "cell_type": "code",
   "execution_count": 8,
   "metadata": {},
   "outputs": [],
   "source": [
    "for t in range(num_iterations):\n",
    "    \n",
    "    content = np.random.uniform(0, 10, size=d)\n",
    "    content_pool.append(content)\n",
    "    \n",
    "    # Iterate through content in pool to find content to review\n",
    "    max_risk_score = -np.inf\n",
    "    content_to_review = None\n",
    "    for con in content_pool:\n",
    "        risk_score = scale_risk_score(con)\n",
    "        if risk_score > max_risk_score:\n",
    "            max_risk_score = risk_score\n",
    "\n",
    "    if max_risk_score>0:\n",
    "        content_to_review = con\n",
    "    \n",
    "        # Review the selected content\n",
    "        true_severity = np.random.uniform(0, 10, size=d) # Manual Review (Random for this simulation)\n",
    "        \n",
    "        beta_parameters = update_beta_parameters(beta_parameters, max_risk_score, true_severity)\n",
    "        uncertainties = update_uncertainties(uncertainties, max_risk_score)"
   ]
  }
 ],
 "metadata": {
  "kernelspec": {
   "display_name": "Python 3",
   "language": "python",
   "name": "python3"
  },
  "language_info": {
   "codemirror_mode": {
    "name": "ipython",
    "version": 3
   },
   "file_extension": ".py",
   "mimetype": "text/x-python",
   "name": "python",
   "nbconvert_exporter": "python",
   "pygments_lexer": "ipython3",
   "version": "3.12.1"
  }
 },
 "nbformat": 4,
 "nbformat_minor": 2
}
